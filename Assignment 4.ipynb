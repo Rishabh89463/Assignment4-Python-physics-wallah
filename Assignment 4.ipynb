{
 "cells": [
  {
   "cell_type": "code",
   "execution_count": 1,
   "id": "280030bb-dfe3-49bb-90b2-af29ea313584",
   "metadata": {},
   "outputs": [],
   "source": [
    "# 1. What exactly is []?"
   ]
  },
  {
   "cell_type": "code",
   "execution_count": 2,
   "id": "d26db985-b570-4b17-9826-3f30fa40eb2c",
   "metadata": {},
   "outputs": [],
   "source": [
    "# In Python, [] represents an empty list."
   ]
  },
  {
   "cell_type": "code",
   "execution_count": 3,
   "id": "6cd37f67-609f-4b52-b873-48eba16edb9c",
   "metadata": {},
   "outputs": [],
   "source": [
    "# 2. In a list of values stored in a variable called spam, how would you assign the value &#39;hello&#39; as the\n",
    "# third value? (Assume [2, 4, 6, 8, 10] are in spam.)"
   ]
  },
  {
   "cell_type": "code",
   "execution_count": 6,
   "id": "153c2493-2982-4412-bad9-c793e5070a1f",
   "metadata": {},
   "outputs": [
    {
     "name": "stdout",
     "output_type": "stream",
     "text": [
      "[2, 4, 'hello', 8, 10]\n"
     ]
    }
   ],
   "source": [
    "spam = [2, 4, 6, 8, 10]\n",
    "spam[2] = 'hello'\n",
    "print(spam)  "
   ]
  },
  {
   "cell_type": "code",
   "execution_count": 5,
   "id": "2cf4ae1a-d8f1-4a52-a335-8c3beb80aba8",
   "metadata": {},
   "outputs": [],
   "source": [
    "# 3. What is the value of spam[int(int(&#39;3&#39; * 2) / 11)]?"
   ]
  },
  {
   "cell_type": "code",
   "execution_count": 7,
   "id": "3bd69dac-7ebc-485b-b29f-d345e24ed2a9",
   "metadata": {},
   "outputs": [],
   "source": [
    "# Let's break down the expression step by step:\n",
    "\n",
    "# '3' * 2: This multiplies the string '3' by 2, resulting in the string '33'.\n",
    "# int('33'): Converts the string '33' to an integer, which is 33.\n",
    "# 33 / 11: Divides 33 by 11, resulting in 3.0 (a float).   \n",
    "# int(3.0): Converts the float 3.0 to an integer, which is 3.\n",
    "# spam[3]: Accesses the fourth element of the list spam using the index 3.\n",
    "# So, the value of spam[int(int('3' * 2) / 11)] is the fourth element of the list spam.\n",
    "\n",
    "# Given that spam = [2, 4, 6, 8, 10], the fourth element is 8.\n",
    "\n",
    "# Therefore, the final answer is 8."
   ]
  },
  {
   "cell_type": "code",
   "execution_count": 8,
   "id": "20d42f08-79cf-45a6-a134-446d10a2c07e",
   "metadata": {},
   "outputs": [],
   "source": [
    "# 4. What is the value of spam[-1]?"
   ]
  },
  {
   "cell_type": "code",
   "execution_count": 9,
   "id": "ad0ff6c3-e959-4074-b5ee-bc2a267ba9e3",
   "metadata": {},
   "outputs": [],
   "source": [
    "# spam[-1] refers to the last element of the list spam.\n",
    "\n",
    "# Given that spam = [2, 4, 6, 8, 10], the last element is 10.\n",
    "\n",
    "# Therefore, the value of spam[-1] is 10."
   ]
  },
  {
   "cell_type": "code",
   "execution_count": 10,
   "id": "676bde3b-9543-41bc-b9e8-e8f428b5331b",
   "metadata": {},
   "outputs": [],
   "source": [
    "# 5. What is the value of spam[:2]?"
   ]
  },
  {
   "cell_type": "code",
   "execution_count": 11,
   "id": "3bb42392-f423-41ed-97eb-129217130fe1",
   "metadata": {},
   "outputs": [],
   "source": [
    "# spam[:2] refers to a slice of the list spam from the beginning up to, but not including, the element at index 2.\n",
    "\n",
    "# Given that spam = [2, 4, 6, 8, 10], the elements at indices 0 and 1 are 2 and 4, respectively.\n",
    "\n",
    "# Therefore, the value of spam[:2] is [2, 4]."
   ]
  },
  {
   "cell_type": "code",
   "execution_count": 12,
   "id": "dba67398-8dc3-400f-97c7-2970ddf6de5b",
   "metadata": {},
   "outputs": [],
   "source": [
    "# 6. What is the value of bacon.index(&#39;cat&#39;)?"
   ]
  },
  {
   "cell_type": "code",
   "execution_count": 13,
   "id": "e4165e9a-c886-40b6-9bc2-e96c9554a89b",
   "metadata": {},
   "outputs": [],
   "source": [
    "# The index() method returns the index of the first occurrence of a specified value. In this case, the first occurrence of 'cat' is at index 1.\n",
    "\n",
    "# So, bacon.index('cat') equals 1."
   ]
  },
  {
   "cell_type": "code",
   "execution_count": 14,
   "id": "c0b1c4eb-a3b1-49db-85d4-1631b422360d",
   "metadata": {},
   "outputs": [],
   "source": [
    "# 7. How does bacon.append(99) change the look of the list value in bacon?"
   ]
  },
  {
   "cell_type": "code",
   "execution_count": 15,
   "id": "e6be472b-f410-4297-ae1f-9acb1866b959",
   "metadata": {},
   "outputs": [],
   "source": [
    "# he append() method adds an element to the end of a list.\n",
    "\n",
    "# Before: bacon = [3.14, 'cat', 11, 'cat', True]\n",
    "# After: bacon = [3.14, 'cat', 11, 'cat', True, 99]"
   ]
  },
  {
   "cell_type": "code",
   "execution_count": 16,
   "id": "de862ca8-d7e0-4410-83a7-babc4a4e7f3d",
   "metadata": {},
   "outputs": [],
   "source": [
    "# 8. How does bacon.remove(&#39;cat&#39;) change the look of the list in bacon?"
   ]
  },
  {
   "cell_type": "code",
   "execution_count": 17,
   "id": "57633a8d-c1a6-47ee-905f-04e0631302c6",
   "metadata": {},
   "outputs": [],
   "source": [
    "# The remove() method removes the first occurrence of a specified value from a list.\n",
    "\n",
    "# Before: bacon = [3.14, 'cat', 11, 'cat', True]\n",
    "# After: bacon = [3.14, 11, 'cat', True]\n",
    "\n",
    "# Note that only the first occurrence of 'cat' is removed."
   ]
  },
  {
   "cell_type": "code",
   "execution_count": 18,
   "id": "92315c46-1f2c-4d1a-a77f-97a1b23200b3",
   "metadata": {},
   "outputs": [],
   "source": [
    "# 9. What are the list concatenation and list replication operators?"
   ]
  },
  {
   "cell_type": "code",
   "execution_count": 19,
   "id": "bc6d113f-7233-4b8c-bb6e-483a5edce0dd",
   "metadata": {},
   "outputs": [],
   "source": [
    "# List Concatenation and Replication Operators\n",
    "# Concatenation Operator: +\n",
    "# The + operator is used to combine two or more lists into a single new list.\n",
    "\n",
    "# Python\n",
    "# list1 = [1, 2, 3]\n",
    "# list2 = [4, 5, 6]\n",
    "# concatenated_list = list1 + list2\n",
    "# print(concatenated_list)  # Output: [1, 2, 3, 4, 5, 6]"
   ]
  },
  {
   "cell_type": "code",
   "execution_count": 20,
   "id": "552952d4-d936-46da-95d4-81b9fefb2dd0",
   "metadata": {},
   "outputs": [],
   "source": [
    "# 10. What is difference between the list methods append() and insert()?"
   ]
  },
  {
   "cell_type": "code",
   "execution_count": 21,
   "id": "902b6a33-9ad9-4f20-9dbd-32971c250e22",
   "metadata": {},
   "outputs": [],
   "source": [
    "# append() and insert() are both methods used to add elements to a list in Python, but they differ in where they add the element:\n",
    "\n",
    "# append()\n",
    "# Adds an element to the end of the list.\n",
    "# Syntax: list_name.append(element)\n",
    "# insert()\n",
    "# Adds an element at a specific index within the list.\n",
    "# Syntax: list_name.insert(index, element)"
   ]
  },
  {
   "cell_type": "code",
   "execution_count": 22,
   "id": "3bc25e1a-11b3-4092-8fa5-eb52b43153e8",
   "metadata": {},
   "outputs": [],
   "source": [
    "# 11. What are the two methods for removing items from a list?"
   ]
  },
  {
   "cell_type": "code",
   "execution_count": 23,
   "id": "15740845-11f4-4a20-8e59-e3f38b93591e",
   "metadata": {},
   "outputs": [],
   "source": [
    "# Two Methods for Removing Items from a List\n",
    "# 1. remove() method\n",
    "# Removes the first occurrence of a specified value from the list.   \n",
    "# Syntax: list_name.remove(value)\n",
    "# 2. del statement\n",
    "# Removes an item at a specific index from the list.\n",
    "# Can also be used to delete entire slices of a list.   \n",
    "# Syntax: del list_name[index]"
   ]
  },
  {
   "cell_type": "code",
   "execution_count": 24,
   "id": "f5441c24-fa40-4788-ac6c-ff8baff60c78",
   "metadata": {},
   "outputs": [],
   "source": [
    "# 12. Describe how list values and string values are identical."
   ]
  },
  {
   "cell_type": "code",
   "execution_count": 25,
   "id": "9afee709-4aff-40c0-a59d-eb356d325f1b",
   "metadata": {},
   "outputs": [],
   "source": [
    "# Similarities Between List Values and String Values\n",
    "# While lists and strings are different data types in Python, they share some key similarities as sequences:\n",
    "\n",
    "# 1. Ordered Collections\n",
    "# Both lists and strings are ordered collections of elements.   \n",
    "# Elements in both can be accessed by their index position, starting from 0.   \n",
    "# 2. Slicing\n",
    "# Both support slicing, which allows you to extract a subset of elements based on indices.   \n",
    "# Syntax is similar: sequence[start:end:step]\n",
    "# 3. Length Determination\n",
    "# The len() function can be used to determine the number of elements in both lists and strings.\n",
    "# 4. Membership Testing\n",
    "# You can use the in and not in operators to check if an element is present in a list or string.\n",
    "# 5. Iteration\n",
    "# Both can be iterated over using loops like for loops."
   ]
  },
  {
   "cell_type": "code",
   "execution_count": 26,
   "id": "b12e7567-77dc-4851-b8dd-418ab387f46f",
   "metadata": {},
   "outputs": [],
   "source": [
    "# 13. What&#39;s the difference between tuples and lists?"
   ]
  },
  {
   "cell_type": "code",
   "execution_count": 27,
   "id": "58dbb7b6-698d-42a0-a036-7680743cced5",
   "metadata": {},
   "outputs": [],
   "source": [
    "# Tuples are immutable sequences, meaning they cannot be changed once created. They are defined with parentheses ().\n",
    "\n",
    "# Lists are mutable sequences, allowing changes like adding, removing, or modifying elements. They are defined with square brackets []."
   ]
  },
  {
   "cell_type": "code",
   "execution_count": 28,
   "id": "cd8540a4-1d1b-4002-bf1f-11fba331581c",
   "metadata": {},
   "outputs": [],
   "source": [
    "# 14. How do you type a tuple value that only contains the integer 42?"
   ]
  },
  {
   "cell_type": "code",
   "execution_count": 29,
   "id": "cb5c4b0e-636e-4607-a743-04607f8cca32",
   "metadata": {},
   "outputs": [],
   "source": [
    "# Note the comma after the 42. It's necessary to indicate that it's a tuple and not just an integer in parentheses."
   ]
  },
  {
   "cell_type": "code",
   "execution_count": 30,
   "id": "a0e8d358-53ec-443b-a9fc-7ff7b3acf28a",
   "metadata": {},
   "outputs": [],
   "source": [
    "# 15. How do you get a list value&#39;s tuple form? How do you get a tuple value&#39;s list form?"
   ]
  },
  {
   "cell_type": "code",
   "execution_count": 31,
   "id": "dee3e35b-62f2-4ce7-89ed-96a2dae4e4e3",
   "metadata": {},
   "outputs": [
    {
     "name": "stdout",
     "output_type": "stream",
     "text": [
      "(1, 2, 3)\n",
      "[4, 5, 6]\n"
     ]
    }
   ],
   "source": [
    "# Get a list value's tuple form:\n",
    "my_list = [1, 2, 3]\n",
    "my_tuple = tuple(my_list)\n",
    "print(my_tuple)  # Output: (1, 2, 3)\n",
    "\n",
    "# Get a tuple value's list form:\n",
    "my_tuple = (4, 5, 6)\n",
    "my_list = list(my_tuple)\n",
    "print(my_list)  # Output: [4, 5, 6]\n"
   ]
  },
  {
   "cell_type": "code",
   "execution_count": 32,
   "id": "20b65ff1-2c3e-4084-9cf9-b996154cc60c",
   "metadata": {},
   "outputs": [],
   "source": [
    "# 16. Variables that &quot;contain&quot; list values are not necessarily lists themselves. Instead, what do they\n",
    "# contain?"
   ]
  },
  {
   "cell_type": "code",
   "execution_count": 33,
   "id": "2fa22ae3-d7e1-47b0-9c15-e9123a97467e",
   "metadata": {},
   "outputs": [],
   "source": [
    "# This means the variable doesn't hold the list itself, but rather a pointer or address to where the list is stored in memory. This is important to understand because it affects how changes to the list are handled."
   ]
  },
  {
   "cell_type": "code",
   "execution_count": 34,
   "id": "b0951b45-2650-4de8-b8d8-61cae4faa202",
   "metadata": {},
   "outputs": [],
   "source": [
    "# 17. How do you distinguish between copy.copy() and copy.deepcopy()?"
   ]
  },
  {
   "cell_type": "code",
   "execution_count": 35,
   "id": "8bf3e28c-4d98-4122-9328-69e9b8a35f83",
   "metadata": {},
   "outputs": [],
   "source": [
    "# copy.copy() (Shallow Copy)\n",
    "# Creates a new object but copies only the references to the original object's contents.\n",
    "# Changes to the original object will affect the copied object if they share mutable objects (like lists or dictionaries).\n",
    "# copy.deepcopy() (Deep Copy)\n",
    "# Creates a new object and recursively copies all objects within it.\n",
    "# Changes to the original object will not affect the copied object."
   ]
  },
  {
   "cell_type": "code",
   "execution_count": null,
   "id": "853138d6-4084-4964-9ad0-6ef0ef45e112",
   "metadata": {},
   "outputs": [],
   "source": []
  }
 ],
 "metadata": {
  "kernelspec": {
   "display_name": "Python 3 (ipykernel)",
   "language": "python",
   "name": "python3"
  },
  "language_info": {
   "codemirror_mode": {
    "name": "ipython",
    "version": 3
   },
   "file_extension": ".py",
   "mimetype": "text/x-python",
   "name": "python",
   "nbconvert_exporter": "python",
   "pygments_lexer": "ipython3",
   "version": "3.10.8"
  }
 },
 "nbformat": 4,
 "nbformat_minor": 5
}
